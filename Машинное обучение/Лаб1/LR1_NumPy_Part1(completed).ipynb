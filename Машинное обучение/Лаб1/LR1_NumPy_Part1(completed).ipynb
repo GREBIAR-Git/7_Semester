{
  "cells": [
    {
      "cell_type": "markdown",
      "metadata": {
        "id": "kZK5n6HwRVEF"
      },
      "source": [
        "### Лабораторная работа №1(часть 1) - \"Работа с пакетом NumPy в Python\""
      ]
    },
    {
      "cell_type": "markdown",
      "metadata": {
        "id": "bSYJ4GBhRVEJ"
      },
      "source": [
        "Дан массив, содержащий баллы слушателей курса по английскому языку за вступительный экзамен. Слушатели распределены по 15 группам по 10 человек."
      ]
    },
    {
      "cell_type": "code",
      "execution_count": 1,
      "metadata": {
        "id": "RlFaWm0_RVEK"
      },
      "outputs": [],
      "source": [
        "import numpy as np\n",
        "scores = np.array([[20, 40, 56, 80, 0, 5, 25, 27, 74, 1],\n",
        "         [0, 98, 67, 100, 8, 56, 34, 82, 100, 7],\n",
        "         [78, 54, 23, 79, 100, 0, 0, 42, 95, 83],\n",
        "         [51, 50, 47, 23, 100, 94, 25, 48, 38, 77],\n",
        "         [90, 87, 41, 89, 52, 0, 5, 17, 28, 99],\n",
        "         [32, 18, 21, 18, 29, 31, 48, 62, 76, 22],\n",
        "         [6, 0, 65, 78, 43, 22, 38, 88, 94, 100],\n",
        "         [77, 28, 39, 41, 0, 81, 45, 54, 98, 12],\n",
        "         [66, 0, 88, 0, 44, 0, 55, 100, 12, 11],\n",
        "         [17, 70, 86, 96, 56, 23, 32, 49, 70, 80],\n",
        "         [20, 24, 76, 50, 29, 40, 3, 2, 5, 11],\n",
        "         [33, 63, 28, 40, 51, 100, 98, 87, 22, 30],\n",
        "         [16, 54, 78, 12, 25, 35, 10, 19, 67, 0],\n",
        "         [100, 88, 24, 33, 47, 56, 62, 34, 77, 53],\n",
        "         [50, 89, 70, 72, 56, 29, 15, 20, 0, 0]])\n",
        "def prt(a, d):\n",
        "    print(\"№\"+ str(a) + \" - \"+ str(d))"
      ]
    },
    {
      "cell_type": "markdown",
      "metadata": {
        "id": "5KWwYfj7RVEL"
      },
      "source": [
        "### Задание 1\n",
        "\n",
        "Посчитать, сколько слушателей получили 0 за вступительный экзамен."
      ]
    },
    {
      "cell_type": "code",
      "execution_count": 2,
      "metadata": {
        "colab": {
          "base_uri": "https://localhost:8080/"
        },
        "id": "A2PhC_GzRVEM",
        "outputId": "97986877-f704-4466-b325-4aff840f84d9"
      },
      "outputs": [
        {
          "output_type": "stream",
          "name": "stdout",
          "text": [
            "№1 - 13\n"
          ]
        }
      ],
      "source": [
        "prt(1,np.sum(scores==0))"
      ]
    },
    {
      "cell_type": "markdown",
      "metadata": {
        "id": "O6DH-LwURVEM"
      },
      "source": [
        "### Задание 2\n",
        "\n",
        "Посчитать, сколько слушателей получили балл выше 50."
      ]
    },
    {
      "cell_type": "code",
      "execution_count": 3,
      "metadata": {
        "colab": {
          "base_uri": "https://localhost:8080/"
        },
        "id": "XUZqYdhVRVEM",
        "outputId": "235b88b4-425d-4945-9720-7ddb45572edb"
      },
      "outputs": [
        {
          "output_type": "stream",
          "name": "stdout",
          "text": [
            "№2 - 64\n"
          ]
        }
      ],
      "source": [
        "prt(2,np.sum(scores>50))"
      ]
    },
    {
      "cell_type": "markdown",
      "metadata": {
        "id": "xOQhcumcRVEN"
      },
      "source": [
        "### Задание 3\n",
        "\n",
        "Посчитать, сколько человек получили балл не ниже 50, но не выше 70."
      ]
    },
    {
      "cell_type": "code",
      "execution_count": 4,
      "metadata": {
        "colab": {
          "base_uri": "https://localhost:8080/"
        },
        "id": "KISt_icWRVEN",
        "outputId": "c5daec2f-cd70-4059-ed01-dcafbdef67d2"
      },
      "outputs": [
        {
          "output_type": "stream",
          "name": "stdout",
          "text": [
            "№3 - 20\n"
          ]
        }
      ],
      "source": [
        "prt(3,np.sum(scores>50) - np.sum(scores>=70))"
      ]
    },
    {
      "cell_type": "markdown",
      "metadata": {
        "id": "5K5UuggWRVEO"
      },
      "source": [
        "### Задание 4\n",
        "\n",
        "Определить, в какой группе средний балл за вступительный экзамен выше."
      ]
    },
    {
      "cell_type": "code",
      "execution_count": 5,
      "metadata": {
        "colab": {
          "base_uri": "https://localhost:8080/"
        },
        "id": "brD5K8iLRVEO",
        "outputId": "eb9ff71a-0dde-4283-fe86-806f7e93962d"
      },
      "outputs": [
        {
          "output_type": "stream",
          "name": "stdout",
          "text": [
            "№4 - 9\n"
          ]
        }
      ],
      "source": [
        "prt(4,np.average(scores, axis=1).argmax())"
      ]
    },
    {
      "cell_type": "markdown",
      "metadata": {
        "id": "ZEnghHXVRVEP"
      },
      "source": [
        "### Задание 5\n",
        "\n",
        "Сохранить баллы слушателей выше 0 в массив `nonzero`. "
      ]
    },
    {
      "cell_type": "code",
      "execution_count": 6,
      "metadata": {
        "colab": {
          "base_uri": "https://localhost:8080/"
        },
        "id": "5h_StZMJRVEP",
        "outputId": "22287f53-0ef4-4ce9-fcf1-008d3d876fef"
      },
      "outputs": [
        {
          "output_type": "stream",
          "name": "stdout",
          "text": [
            "№5 - [ 20  40  56  80   5  25  27  74   1  98  67 100   8  56  34  82 100   7\n",
            "  78  54  23  79 100  42  95  83  51  50  47  23 100  94  25  48  38  77\n",
            "  90  87  41  89  52   5  17  28  99  32  18  21  18  29  31  48  62  76\n",
            "  22   6  65  78  43  22  38  88  94 100  77  28  39  41  81  45  54  98\n",
            "  12  66  88  44  55 100  12  11  17  70  86  96  56  23  32  49  70  80\n",
            "  20  24  76  50  29  40   3   2   5  11  33  63  28  40  51 100  98  87\n",
            "  22  30  16  54  78  12  25  35  10  19  67 100  88  24  33  47  56  62\n",
            "  34  77  53  50  89  70  72  56  29  15  20]\n"
          ]
        }
      ],
      "source": [
        "nonzero = scores[np.where(scores>0)]\n",
        "prt(5,nonzero)\n"
      ]
    },
    {
      "cell_type": "markdown",
      "metadata": {
        "id": "mfYn70O8RVEP"
      },
      "source": [
        "### Задание 6\n",
        "\n",
        "Используя массив `nonzero`, определить минимальный балл за вступительный балл среди всех групп."
      ]
    },
    {
      "cell_type": "code",
      "execution_count": 7,
      "metadata": {
        "colab": {
          "base_uri": "https://localhost:8080/"
        },
        "id": "MHPPDxFQRVEP",
        "outputId": "be88159f-05d4-44f7-ed89-49410f62a995"
      },
      "outputs": [
        {
          "output_type": "stream",
          "name": "stdout",
          "text": [
            "№6 - 1\n"
          ]
        }
      ],
      "source": [
        "prt(6,nonzero.min())"
      ]
    },
    {
      "cell_type": "markdown",
      "metadata": {
        "id": "UI8oO173RVEQ"
      },
      "source": [
        "### Задание 7\n",
        "\n",
        "Выбрать из массива `nonzero` только те значения, которые соответствуют продвинутому уровню знания языка – баллу за экзамен выше 80. Сохранить полученный результат в массив `advanced`. "
      ]
    },
    {
      "cell_type": "code",
      "execution_count": 8,
      "metadata": {
        "colab": {
          "base_uri": "https://localhost:8080/"
        },
        "id": "5icxxs7pRVEQ",
        "outputId": "ba452394-0c37-40f4-e927-f64d5c7898a6"
      },
      "outputs": [
        {
          "output_type": "stream",
          "name": "stdout",
          "text": [
            "№7 - [ 98 100  82 100 100  95  83 100  94  90  87  89  99  88  94 100  81  98\n",
            "  88 100  86  96 100  98  87 100  88  89]\n"
          ]
        }
      ],
      "source": [
        "advanced = scores[np.where(scores>80)]\n",
        "prt(7,advanced)\n"
      ]
    },
    {
      "cell_type": "markdown",
      "metadata": {
        "id": "i8HPdeDXRVEQ"
      },
      "source": [
        "### Задание 8\n",
        "\n",
        "Получить из исходного массива `scores` массив медианных оценок по группам."
      ]
    },
    {
      "cell_type": "code",
      "execution_count": 9,
      "metadata": {
        "colab": {
          "base_uri": "https://localhost:8080/"
        },
        "id": "UDyaOxpiRVEQ",
        "outputId": "e174637f-17fe-4660-a42d-ac9aaa06a9d3"
      },
      "outputs": [
        {
          "output_type": "stream",
          "name": "stdout",
          "text": [
            "№8 - [26.  61.5 66.  49.  46.5 30.  54.  43.  28.  63.  22.  45.5 22.  54.5\n",
            " 39.5]\n"
          ]
        }
      ],
      "source": [
        "prt(8,np.median(scores, axis=1))"
      ]
    },
    {
      "cell_type": "markdown",
      "metadata": {
        "id": "l2ms0mjSRVER"
      },
      "source": [
        "### Задание 9\n",
        "\n",
        "Перераспределить студентов из `scores` в 10 групп по 15 человек с помощью метода `reshape`. Посчитать среднюю оценку в группе на обновленных данных."
      ]
    },
    {
      "cell_type": "code",
      "execution_count": 10,
      "metadata": {
        "colab": {
          "base_uri": "https://localhost:8080/"
        },
        "id": "ztUiWsoRRVER",
        "outputId": "362e2d9f-8440-4c71-df09-c61e8bdb2068"
      },
      "outputs": [
        {
          "output_type": "stream",
          "name": "stdout",
          "text": [
            "№9 - [40.06666667 55.53333333 60.8        33.73333333 47.93333333 44.4\n",
            " 51.86666667 40.86666667 40.53333333 45.53333333]\n"
          ]
        }
      ],
      "source": [
        "prt(9,np.average(scores.reshape(10,15),axis=1))"
      ]
    },
    {
      "cell_type": "markdown",
      "metadata": {
        "id": "x6Xl_abZRVER"
      },
      "source": [
        "### Задание 10\n",
        "\n",
        "Определить общее число элементов в массиве `advanced`."
      ]
    },
    {
      "cell_type": "code",
      "execution_count": 11,
      "metadata": {
        "colab": {
          "base_uri": "https://localhost:8080/"
        },
        "id": "BXYIKJDfRVER",
        "outputId": "fd000922-2228-4cd7-ac25-a033cb6f7c84"
      },
      "outputs": [
        {
          "output_type": "stream",
          "name": "stdout",
          "text": [
            "№10 - 28\n"
          ]
        }
      ],
      "source": [
        "prt(10,advanced.size)"
      ]
    },
    {
      "cell_type": "markdown",
      "metadata": {
        "id": "U4w84Q9uRVES"
      },
      "source": [
        "### Задание 11\n",
        "\n",
        "На основе исходного массива `scores` создать булев массив `sto`, где `True` соответствует баллам за экзамен, равным 100, а `False` – всем остальным баллам. "
      ]
    },
    {
      "cell_type": "code",
      "execution_count": 13,
      "metadata": {
        "colab": {
          "base_uri": "https://localhost:8080/"
        },
        "id": "hPSFPcNQRVES",
        "outputId": "be3e0a0d-e232-4518-c4fe-c7ffc32379c2"
      },
      "outputs": [
        {
          "output_type": "stream",
          "name": "stdout",
          "text": [
            "№11 - [[False False False False False False False False False False]\n",
            " [False False False  True False False False False  True False]\n",
            " [False False False False  True False False False False False]\n",
            " [False False False False  True False False False False False]\n",
            " [False False False False False False False False False False]\n",
            " [False False False False False False False False False False]\n",
            " [False False False False False False False False False  True]\n",
            " [False False False False False False False False False False]\n",
            " [False False False False False False False  True False False]\n",
            " [False False False False False False False False False False]\n",
            " [False False False False False False False False False False]\n",
            " [False False False False False  True False False False False]\n",
            " [False False False False False False False False False False]\n",
            " [ True False False False False False False False False False]\n",
            " [False False False False False False False False False False]]\n"
          ]
        }
      ],
      "source": [
        "sto = np.where(scores==100,True,False)\n",
        "prt(11,sto)"
      ]
    },
    {
      "cell_type": "markdown",
      "metadata": {
        "id": "bY0ZLFbZRVES"
      },
      "source": [
        "### Задание 12\n",
        "\n",
        "На основе исходного массива `scores` вывести на экран оценки слушателей первых семи групп (включительно, должны быть 7 списков оценок)."
      ]
    },
    {
      "cell_type": "code",
      "execution_count": 14,
      "metadata": {
        "colab": {
          "base_uri": "https://localhost:8080/"
        },
        "id": "z8FATg4xRVET",
        "outputId": "b901201b-279e-4774-dc70-a69b4663643f"
      },
      "outputs": [
        {
          "output_type": "stream",
          "name": "stdout",
          "text": [
            "№12 - [[ 20  40  56  80   0   5  25  27  74   1]\n",
            " [  0  98  67 100   8  56  34  82 100   7]\n",
            " [ 78  54  23  79 100   0   0  42  95  83]\n",
            " [ 51  50  47  23 100  94  25  48  38  77]\n",
            " [ 90  87  41  89  52   0   5  17  28  99]\n",
            " [ 32  18  21  18  29  31  48  62  76  22]\n",
            " [  6   0  65  78  43  22  38  88  94 100]]\n"
          ]
        }
      ],
      "source": [
        "prt(12,scores[0:7])"
      ]
    },
    {
      "cell_type": "code",
      "execution_count": null,
      "metadata": {
        "id": "tcXXtjvcRVET"
      },
      "outputs": [],
      "source": []
    },
    {
      "cell_type": "code",
      "execution_count": null,
      "metadata": {
        "id": "SnjhENEBRVET"
      },
      "outputs": [],
      "source": [
        "from scipy.stats import mannwhitneyu"
      ]
    },
    {
      "cell_type": "code",
      "execution_count": null,
      "metadata": {
        "id": "cLrGXp6iRVET"
      },
      "outputs": [],
      "source": [
        "from random import rand"
      ]
    }
  ],
  "metadata": {
    "colab": {
      "collapsed_sections": [],
      "provenance": []
    },
    "kernelspec": {
      "display_name": "Python 3 (ipykernel)",
      "language": "python",
      "name": "python3"
    },
    "language_info": {
      "codemirror_mode": {
        "name": "ipython",
        "version": 3
      },
      "file_extension": ".py",
      "mimetype": "text/x-python",
      "name": "python",
      "nbconvert_exporter": "python",
      "pygments_lexer": "ipython3",
      "version": "3.10.8"
    }
  },
  "nbformat": 4,
  "nbformat_minor": 0
}